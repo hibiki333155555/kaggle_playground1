{
 "cells": [
  {
   "cell_type": "markdown",
   "id": "de8c029c",
   "metadata": {},
   "source": [
    "import kaggle party member"
   ]
  },
  {
   "cell_type": "code",
   "execution_count": 1,
   "id": "89fc8290",
   "metadata": {},
   "outputs": [],
   "source": [
    "import pandas as pd\n",
    "import numpy as np\n",
    "import seaborn as sns"
   ]
  },
  {
   "cell_type": "markdown",
   "id": "d9e0c5dc",
   "metadata": {},
   "source": [
    "For each id in the test set, you must predict the value for the target MedHouseVal."
   ]
  },
  {
   "cell_type": "code",
   "execution_count": 2,
   "id": "40a093dc",
   "metadata": {},
   "outputs": [],
   "source": [
    "data = pd.read_csv(\"./train.csv\")"
   ]
  },
  {
   "cell_type": "code",
   "execution_count": 4,
   "id": "0f119af6",
   "metadata": {},
   "outputs": [
    {
     "name": "stdout",
     "output_type": "stream",
     "text": [
      "          id  MedInc  HouseAge  AveRooms  AveBedrms  Population  AveOccup  \\\n",
      "0          0  2.3859      15.0  3.827160   1.112100      1280.0  2.486989   \n",
      "1          1  3.7188      17.0  6.013373   1.054217      1504.0  3.813084   \n",
      "2          2  4.7750      27.0  6.535604   1.103175      1061.0  2.464602   \n",
      "3          3  2.4138      16.0  3.350203   0.965432      1255.0  2.089286   \n",
      "4          4  3.7500      52.0  4.284404   1.069246      1793.0  1.604790   \n",
      "...      ...     ...       ...       ...        ...         ...       ...   \n",
      "37132  37132  3.3438      50.0  4.936508   1.079365      1775.0  3.022222   \n",
      "37133  37133  3.7308      26.0  5.087533   0.966019      1006.0  4.316901   \n",
      "37134  37134  4.1716      52.0  4.678862   1.101485      1156.0  1.431734   \n",
      "37135  37135  2.7143      16.0  5.710074   1.068376       584.0  2.803659   \n",
      "37136  37136  2.2419      34.0  5.424419   1.058685      1340.0  3.799065   \n",
      "\n",
      "       Latitude  Longitude  MedHouseVal  \n",
      "0         34.60    -120.12        0.980  \n",
      "1         38.69    -121.22        0.946  \n",
      "2         34.71    -120.45        1.576  \n",
      "3         32.66    -117.09        1.336  \n",
      "4         37.80    -122.41        4.500  \n",
      "...         ...        ...          ...  \n",
      "37132     34.19    -118.36        1.856  \n",
      "37133     37.32    -121.86        1.588  \n",
      "37134     37.75    -122.44        3.387  \n",
      "37135     38.40    -120.98        1.592  \n",
      "37136     36.34    -119.64        0.652  \n",
      "\n",
      "[37137 rows x 10 columns]\n"
     ]
    }
   ],
   "source": [
    "print(data)"
   ]
  },
  {
   "cell_type": "code",
   "execution_count": 5,
   "id": "93d9ee1e",
   "metadata": {},
   "outputs": [
    {
     "name": "stdout",
     "output_type": "stream",
     "text": [
      "<class 'pandas.core.frame.DataFrame'>\n",
      "RangeIndex: 37137 entries, 0 to 37136\n",
      "Data columns (total 10 columns):\n",
      " #   Column       Non-Null Count  Dtype  \n",
      "---  ------       --------------  -----  \n",
      " 0   id           37137 non-null  int64  \n",
      " 1   MedInc       37137 non-null  float64\n",
      " 2   HouseAge     37137 non-null  float64\n",
      " 3   AveRooms     37137 non-null  float64\n",
      " 4   AveBedrms    37137 non-null  float64\n",
      " 5   Population   37137 non-null  float64\n",
      " 6   AveOccup     37137 non-null  float64\n",
      " 7   Latitude     37137 non-null  float64\n",
      " 8   Longitude    37137 non-null  float64\n",
      " 9   MedHouseVal  37137 non-null  float64\n",
      "dtypes: float64(9), int64(1)\n",
      "memory usage: 2.8 MB\n",
      "None\n"
     ]
    }
   ],
   "source": [
    "print(data.info())"
   ]
  },
  {
   "cell_type": "code",
   "execution_count": null,
   "id": "0e1ae948",
   "metadata": {},
   "outputs": [],
   "source": [
    "sns.heatmap(data)"
   ]
  }
 ],
 "metadata": {
  "kernelspec": {
   "display_name": "Python 3 (ipykernel)",
   "language": "python",
   "name": "python3"
  },
  "language_info": {
   "codemirror_mode": {
    "name": "ipython",
    "version": 3
   },
   "file_extension": ".py",
   "mimetype": "text/x-python",
   "name": "python",
   "nbconvert_exporter": "python",
   "pygments_lexer": "ipython3",
   "version": "3.9.7"
  }
 },
 "nbformat": 4,
 "nbformat_minor": 5
}
